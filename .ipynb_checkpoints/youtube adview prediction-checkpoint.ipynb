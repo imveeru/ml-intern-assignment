{
 "cells": [
  {
   "cell_type": "markdown",
   "id": "62df2ab1",
   "metadata": {},
   "source": [
    "# Youtube Adview Prediction"
   ]
  },
  {
   "cell_type": "code",
   "execution_count": 258,
   "id": "c880e4b3",
   "metadata": {},
   "outputs": [],
   "source": [
    "import numpy as np\n",
    "import pandas as pd\n",
    "import seaborn as sns\n",
    "import matplotlib.pyplot as plt\n",
    "%matplotlib inline"
   ]
  },
  {
   "cell_type": "markdown",
   "id": "80e8b153",
   "metadata": {},
   "source": [
    "## EDA"
   ]
  },
  {
   "cell_type": "code",
   "execution_count": 259,
   "id": "b2724cc3",
   "metadata": {},
   "outputs": [
    {
     "data": {
      "text/html": [
       "<div>\n",
       "<style scoped>\n",
       "    .dataframe tbody tr th:only-of-type {\n",
       "        vertical-align: middle;\n",
       "    }\n",
       "\n",
       "    .dataframe tbody tr th {\n",
       "        vertical-align: top;\n",
       "    }\n",
       "\n",
       "    .dataframe thead th {\n",
       "        text-align: right;\n",
       "    }\n",
       "</style>\n",
       "<table border=\"1\" class=\"dataframe\">\n",
       "  <thead>\n",
       "    <tr style=\"text-align: right;\">\n",
       "      <th></th>\n",
       "      <th>vidid</th>\n",
       "      <th>adview</th>\n",
       "      <th>views</th>\n",
       "      <th>likes</th>\n",
       "      <th>dislikes</th>\n",
       "      <th>comment</th>\n",
       "      <th>published</th>\n",
       "      <th>duration</th>\n",
       "      <th>category</th>\n",
       "    </tr>\n",
       "  </thead>\n",
       "  <tbody>\n",
       "    <tr>\n",
       "      <th>0</th>\n",
       "      <td>VID_18655</td>\n",
       "      <td>40</td>\n",
       "      <td>1031602</td>\n",
       "      <td>8523</td>\n",
       "      <td>363</td>\n",
       "      <td>1095</td>\n",
       "      <td>2016-09-14</td>\n",
       "      <td>PT7M37S</td>\n",
       "      <td>F</td>\n",
       "    </tr>\n",
       "    <tr>\n",
       "      <th>1</th>\n",
       "      <td>VID_14135</td>\n",
       "      <td>2</td>\n",
       "      <td>1707</td>\n",
       "      <td>56</td>\n",
       "      <td>2</td>\n",
       "      <td>6</td>\n",
       "      <td>2016-10-01</td>\n",
       "      <td>PT9M30S</td>\n",
       "      <td>D</td>\n",
       "    </tr>\n",
       "    <tr>\n",
       "      <th>2</th>\n",
       "      <td>VID_2187</td>\n",
       "      <td>1</td>\n",
       "      <td>2023</td>\n",
       "      <td>25</td>\n",
       "      <td>0</td>\n",
       "      <td>2</td>\n",
       "      <td>2016-07-02</td>\n",
       "      <td>PT2M16S</td>\n",
       "      <td>C</td>\n",
       "    </tr>\n",
       "    <tr>\n",
       "      <th>3</th>\n",
       "      <td>VID_23096</td>\n",
       "      <td>6</td>\n",
       "      <td>620860</td>\n",
       "      <td>777</td>\n",
       "      <td>161</td>\n",
       "      <td>153</td>\n",
       "      <td>2016-07-27</td>\n",
       "      <td>PT4M22S</td>\n",
       "      <td>H</td>\n",
       "    </tr>\n",
       "    <tr>\n",
       "      <th>4</th>\n",
       "      <td>VID_10175</td>\n",
       "      <td>1</td>\n",
       "      <td>666</td>\n",
       "      <td>1</td>\n",
       "      <td>0</td>\n",
       "      <td>0</td>\n",
       "      <td>2016-06-29</td>\n",
       "      <td>PT31S</td>\n",
       "      <td>D</td>\n",
       "    </tr>\n",
       "  </tbody>\n",
       "</table>\n",
       "</div>"
      ],
      "text/plain": [
       "       vidid  adview    views likes dislikes comment   published duration  \\\n",
       "0  VID_18655      40  1031602  8523      363    1095  2016-09-14  PT7M37S   \n",
       "1  VID_14135       2     1707    56        2       6  2016-10-01  PT9M30S   \n",
       "2   VID_2187       1     2023    25        0       2  2016-07-02  PT2M16S   \n",
       "3  VID_23096       6   620860   777      161     153  2016-07-27  PT4M22S   \n",
       "4  VID_10175       1      666     1        0       0  2016-06-29    PT31S   \n",
       "\n",
       "  category  \n",
       "0        F  \n",
       "1        D  \n",
       "2        C  \n",
       "3        H  \n",
       "4        D  "
      ]
     },
     "execution_count": 259,
     "metadata": {},
     "output_type": "execute_result"
    }
   ],
   "source": [
    "df=pd.read_csv('train.csv')\n",
    "df.head()"
   ]
  },
  {
   "cell_type": "code",
   "execution_count": 260,
   "id": "8b31b268",
   "metadata": {},
   "outputs": [
    {
     "data": {
      "text/plain": [
       "(14999, 9)"
      ]
     },
     "execution_count": 260,
     "metadata": {},
     "output_type": "execute_result"
    }
   ],
   "source": [
    "df.shape"
   ]
  },
  {
   "cell_type": "code",
   "execution_count": 261,
   "id": "acfbe6bf",
   "metadata": {},
   "outputs": [
    {
     "name": "stdout",
     "output_type": "stream",
     "text": [
      "<class 'pandas.core.frame.DataFrame'>\n",
      "RangeIndex: 14999 entries, 0 to 14998\n",
      "Data columns (total 9 columns):\n",
      " #   Column     Non-Null Count  Dtype \n",
      "---  ------     --------------  ----- \n",
      " 0   vidid      14999 non-null  object\n",
      " 1   adview     14999 non-null  int64 \n",
      " 2   views      14999 non-null  object\n",
      " 3   likes      14999 non-null  object\n",
      " 4   dislikes   14999 non-null  object\n",
      " 5   comment    14999 non-null  object\n",
      " 6   published  14999 non-null  object\n",
      " 7   duration   14999 non-null  object\n",
      " 8   category   14999 non-null  object\n",
      "dtypes: int64(1), object(8)\n",
      "memory usage: 1.0+ MB\n"
     ]
    }
   ],
   "source": [
    "df.info()"
   ]
  },
  {
   "cell_type": "markdown",
   "id": "7a004fe1",
   "metadata": {},
   "source": [
    "Removing F values from dataset"
   ]
  },
  {
   "cell_type": "code",
   "execution_count": 262,
   "id": "f1a5a421",
   "metadata": {},
   "outputs": [],
   "source": [
    "df=df[df.views!='F']\n",
    "df=df[df.likes!='F']\n",
    "df=df[df.dislikes!='F']\n",
    "df=df[df.comment!='F']"
   ]
  },
  {
   "cell_type": "markdown",
   "id": "9d792277",
   "metadata": {},
   "source": [
    "Converting them to numeric"
   ]
  },
  {
   "cell_type": "code",
   "execution_count": 263,
   "id": "8b764076",
   "metadata": {},
   "outputs": [],
   "source": [
    "df['views']=pd.to_numeric(df['views'])\n",
    "df['likes']=pd.to_numeric(df['likes'])\n",
    "df['dislikes']=pd.to_numeric(df['dislikes'])\n",
    "df['comment']=pd.to_numeric(df['comment'])\n",
    "df['published']=pd.to_datetime(df['published'])"
   ]
  },
  {
   "cell_type": "code",
   "execution_count": 264,
   "id": "6006b5f6",
   "metadata": {},
   "outputs": [
    {
     "name": "stdout",
     "output_type": "stream",
     "text": [
      "<class 'pandas.core.frame.DataFrame'>\n",
      "Int64Index: 14637 entries, 0 to 14998\n",
      "Data columns (total 9 columns):\n",
      " #   Column     Non-Null Count  Dtype         \n",
      "---  ------     --------------  -----         \n",
      " 0   vidid      14637 non-null  object        \n",
      " 1   adview     14637 non-null  int64         \n",
      " 2   views      14637 non-null  int64         \n",
      " 3   likes      14637 non-null  int64         \n",
      " 4   dislikes   14637 non-null  int64         \n",
      " 5   comment    14637 non-null  int64         \n",
      " 6   published  14637 non-null  datetime64[ns]\n",
      " 7   duration   14637 non-null  object        \n",
      " 8   category   14637 non-null  object        \n",
      "dtypes: datetime64[ns](1), int64(5), object(3)\n",
      "memory usage: 1.1+ MB\n"
     ]
    }
   ],
   "source": [
    "df.info()"
   ]
  },
  {
   "cell_type": "code",
   "execution_count": 265,
   "id": "fed1f41f",
   "metadata": {},
   "outputs": [
    {
     "data": {
      "text/plain": [
       "vidid        0\n",
       "adview       0\n",
       "views        0\n",
       "likes        0\n",
       "dislikes     0\n",
       "comment      0\n",
       "published    0\n",
       "duration     0\n",
       "category     0\n",
       "dtype: int64"
      ]
     },
     "execution_count": 265,
     "metadata": {},
     "output_type": "execute_result"
    }
   ],
   "source": [
    "df.isnull().sum()"
   ]
  },
  {
   "cell_type": "code",
   "execution_count": 266,
   "id": "7d40a446",
   "metadata": {},
   "outputs": [
    {
     "data": {
      "text/plain": [
       "vidid        14637\n",
       "adview         973\n",
       "views        14247\n",
       "likes         4762\n",
       "dislikes      1521\n",
       "comment       2002\n",
       "published     2384\n",
       "duration      3078\n",
       "category         8\n",
       "dtype: int64"
      ]
     },
     "execution_count": 266,
     "metadata": {},
     "output_type": "execute_result"
    }
   ],
   "source": [
    "df.nunique()"
   ]
  },
  {
   "cell_type": "code",
   "execution_count": 267,
   "id": "b462a658",
   "metadata": {},
   "outputs": [
    {
     "data": {
      "text/plain": [
       "0        VID_18655\n",
       "1        VID_14135\n",
       "2         VID_2187\n",
       "3        VID_23096\n",
       "4        VID_10175\n",
       "           ...    \n",
       "14994       VID_31\n",
       "14995     VID_5861\n",
       "14996      VID_805\n",
       "14997    VID_19843\n",
       "14998     VID_8534\n",
       "Name: vidid, Length: 14637, dtype: object"
      ]
     },
     "execution_count": 267,
     "metadata": {},
     "output_type": "execute_result"
    }
   ],
   "source": [
    "vidid_col=df['vidid']\n",
    "vidid_col"
   ]
  },
  {
   "cell_type": "markdown",
   "id": "dcfed6b1",
   "metadata": {},
   "source": [
    "## Label Encoding"
   ]
  },
  {
   "cell_type": "code",
   "execution_count": 268,
   "id": "7fff7e69",
   "metadata": {},
   "outputs": [],
   "source": [
    "from sklearn.preprocessing import LabelEncoder\n",
    "\n",
    "df['category']=LabelEncoder().fit_transform(df['category']).astype('int64')\n",
    "df['vidid']=LabelEncoder().fit_transform(df['vidid']).astype('int64')"
   ]
  },
  {
   "cell_type": "code",
   "execution_count": 269,
   "id": "fddd4652",
   "metadata": {},
   "outputs": [
    {
     "data": {
      "text/html": [
       "<div>\n",
       "<style scoped>\n",
       "    .dataframe tbody tr th:only-of-type {\n",
       "        vertical-align: middle;\n",
       "    }\n",
       "\n",
       "    .dataframe tbody tr th {\n",
       "        vertical-align: top;\n",
       "    }\n",
       "\n",
       "    .dataframe thead th {\n",
       "        text-align: right;\n",
       "    }\n",
       "</style>\n",
       "<table border=\"1\" class=\"dataframe\">\n",
       "  <thead>\n",
       "    <tr style=\"text-align: right;\">\n",
       "      <th></th>\n",
       "      <th>vidid</th>\n",
       "      <th>adview</th>\n",
       "      <th>views</th>\n",
       "      <th>likes</th>\n",
       "      <th>dislikes</th>\n",
       "      <th>comment</th>\n",
       "      <th>published</th>\n",
       "      <th>duration</th>\n",
       "      <th>category</th>\n",
       "    </tr>\n",
       "  </thead>\n",
       "  <tbody>\n",
       "    <tr>\n",
       "      <th>0</th>\n",
       "      <td>5912</td>\n",
       "      <td>40</td>\n",
       "      <td>1031602</td>\n",
       "      <td>8523</td>\n",
       "      <td>363</td>\n",
       "      <td>1095</td>\n",
       "      <td>2016-09-14</td>\n",
       "      <td>PT7M37S</td>\n",
       "      <td>5</td>\n",
       "    </tr>\n",
       "    <tr>\n",
       "      <th>1</th>\n",
       "      <td>2741</td>\n",
       "      <td>2</td>\n",
       "      <td>1707</td>\n",
       "      <td>56</td>\n",
       "      <td>2</td>\n",
       "      <td>6</td>\n",
       "      <td>2016-10-01</td>\n",
       "      <td>PT9M30S</td>\n",
       "      <td>3</td>\n",
       "    </tr>\n",
       "    <tr>\n",
       "      <th>2</th>\n",
       "      <td>8138</td>\n",
       "      <td>1</td>\n",
       "      <td>2023</td>\n",
       "      <td>25</td>\n",
       "      <td>0</td>\n",
       "      <td>2</td>\n",
       "      <td>2016-07-02</td>\n",
       "      <td>PT2M16S</td>\n",
       "      <td>2</td>\n",
       "    </tr>\n",
       "    <tr>\n",
       "      <th>3</th>\n",
       "      <td>9005</td>\n",
       "      <td>6</td>\n",
       "      <td>620860</td>\n",
       "      <td>777</td>\n",
       "      <td>161</td>\n",
       "      <td>153</td>\n",
       "      <td>2016-07-27</td>\n",
       "      <td>PT4M22S</td>\n",
       "      <td>7</td>\n",
       "    </tr>\n",
       "    <tr>\n",
       "      <th>4</th>\n",
       "      <td>122</td>\n",
       "      <td>1</td>\n",
       "      <td>666</td>\n",
       "      <td>1</td>\n",
       "      <td>0</td>\n",
       "      <td>0</td>\n",
       "      <td>2016-06-29</td>\n",
       "      <td>PT31S</td>\n",
       "      <td>3</td>\n",
       "    </tr>\n",
       "  </tbody>\n",
       "</table>\n",
       "</div>"
      ],
      "text/plain": [
       "   vidid  adview    views  likes  dislikes  comment  published duration  \\\n",
       "0   5912      40  1031602   8523       363     1095 2016-09-14  PT7M37S   \n",
       "1   2741       2     1707     56         2        6 2016-10-01  PT9M30S   \n",
       "2   8138       1     2023     25         0        2 2016-07-02  PT2M16S   \n",
       "3   9005       6   620860    777       161      153 2016-07-27  PT4M22S   \n",
       "4    122       1      666      1         0        0 2016-06-29    PT31S   \n",
       "\n",
       "   category  \n",
       "0         5  \n",
       "1         3  \n",
       "2         2  \n",
       "3         7  \n",
       "4         3  "
      ]
     },
     "execution_count": 269,
     "metadata": {},
     "output_type": "execute_result"
    }
   ],
   "source": [
    "df.head()"
   ]
  },
  {
   "cell_type": "markdown",
   "id": "06fe7caf",
   "metadata": {},
   "source": [
    "## Conveting duration to readable format"
   ]
  },
  {
   "cell_type": "code",
   "execution_count": 270,
   "id": "da072805",
   "metadata": {},
   "outputs": [],
   "source": [
    "import time\n",
    "import datetime"
   ]
  },
  {
   "cell_type": "code",
   "execution_count": 271,
   "id": "4be4ad29",
   "metadata": {},
   "outputs": [
    {
     "data": {
      "text/plain": [
       "'7M37S'"
      ]
     },
     "execution_count": 271,
     "metadata": {},
     "output_type": "execute_result"
    }
   ],
   "source": [
    "sample=df['duration'][0]\n",
    "sample[2:]"
   ]
  },
  {
   "cell_type": "code",
   "execution_count": 272,
   "id": "01ef25e1",
   "metadata": {},
   "outputs": [],
   "source": [
    "def check(x):\n",
    "    y = x[2:]\n",
    "    h = ''\n",
    "    m = ''\n",
    "    s = ''\n",
    "    duration = ''\n",
    "    P = ['H','M','S']\n",
    "    for i in y:\n",
    "        if i not in P:\n",
    "            duration+=i\n",
    "        else:\n",
    "            if(i==\"H\"):\n",
    "                h = duration\n",
    "                duration = ''\n",
    "            elif(i == \"M\"):\n",
    "                m = duration\n",
    "                duration = ''\n",
    "            else:\n",
    "                s = duration\n",
    "                duration = ''\n",
    "                \n",
    "    if(h==''):\n",
    "        h = '00'\n",
    "    if(m == ''):\n",
    "        m = '00'\n",
    "    if(s==''):\n",
    "        s='00'\n",
    "    \n",
    "    bp = h+':'+m+':'+s\n",
    "    return bp"
   ]
  },
  {
   "cell_type": "code",
   "execution_count": 273,
   "id": "d6bc19f9",
   "metadata": {},
   "outputs": [
    {
     "name": "stdout",
     "output_type": "stream",
     "text": [
      "00:7:37\n"
     ]
    }
   ],
   "source": [
    "a='PT7M37S'\n",
    "print(check(a))"
   ]
  },
  {
   "cell_type": "code",
   "execution_count": 274,
   "id": "c8495c75",
   "metadata": {},
   "outputs": [
    {
     "name": "stdout",
     "output_type": "stream",
     "text": [
      "0        PT7M37S\n",
      "1        PT9M30S\n",
      "2        PT2M16S\n",
      "3        PT4M22S\n",
      "4          PT31S\n",
      "          ...   \n",
      "14994    PT6M10S\n",
      "14995    PT3M56S\n",
      "14996    PT3M13S\n",
      "14997      PT26S\n",
      "14998     PT1M1S\n",
      "Name: duration, Length: 14999, dtype: object\n",
      "0         00:7:37\n",
      "1         00:9:30\n",
      "2         00:2:16\n",
      "3         00:4:22\n",
      "4        00:00:31\n",
      "           ...   \n",
      "14994     00:6:10\n",
      "14995     00:3:56\n",
      "14996     00:3:13\n",
      "14997    00:00:26\n",
      "14998      00:1:1\n",
      "Name: duration, Length: 14999, dtype: object\n"
     ]
    }
   ],
   "source": [
    "train=pd.read_csv(\"train.csv\")\n",
    "mp = pd.read_csv(\"train.csv\")[\"duration\"]\n",
    "print(mp)\n",
    "time = mp.apply(check)\n",
    "print(time)"
   ]
  },
  {
   "cell_type": "code",
   "execution_count": 275,
   "id": "6297442d",
   "metadata": {},
   "outputs": [],
   "source": [
    "def func_sec(time_string):\n",
    "    h, m, s = time_string.split(':')\n",
    "    return int(h) * 3600 + int(m) * 60 + int(s)\n",
    "\n",
    "time1=time.apply(func_sec)"
   ]
  },
  {
   "cell_type": "code",
   "execution_count": 276,
   "id": "06147d84",
   "metadata": {},
   "outputs": [
    {
     "data": {
      "text/html": [
       "<div>\n",
       "<style scoped>\n",
       "    .dataframe tbody tr th:only-of-type {\n",
       "        vertical-align: middle;\n",
       "    }\n",
       "\n",
       "    .dataframe tbody tr th {\n",
       "        vertical-align: top;\n",
       "    }\n",
       "\n",
       "    .dataframe thead th {\n",
       "        text-align: right;\n",
       "    }\n",
       "</style>\n",
       "<table border=\"1\" class=\"dataframe\">\n",
       "  <thead>\n",
       "    <tr style=\"text-align: right;\">\n",
       "      <th></th>\n",
       "      <th>vidid</th>\n",
       "      <th>adview</th>\n",
       "      <th>views</th>\n",
       "      <th>likes</th>\n",
       "      <th>dislikes</th>\n",
       "      <th>comment</th>\n",
       "      <th>published</th>\n",
       "      <th>duration</th>\n",
       "      <th>category</th>\n",
       "    </tr>\n",
       "  </thead>\n",
       "  <tbody>\n",
       "    <tr>\n",
       "      <th>0</th>\n",
       "      <td>5912</td>\n",
       "      <td>40</td>\n",
       "      <td>1031602</td>\n",
       "      <td>8523</td>\n",
       "      <td>363</td>\n",
       "      <td>1095</td>\n",
       "      <td>2016-09-14</td>\n",
       "      <td>457</td>\n",
       "      <td>5</td>\n",
       "    </tr>\n",
       "    <tr>\n",
       "      <th>1</th>\n",
       "      <td>2741</td>\n",
       "      <td>2</td>\n",
       "      <td>1707</td>\n",
       "      <td>56</td>\n",
       "      <td>2</td>\n",
       "      <td>6</td>\n",
       "      <td>2016-10-01</td>\n",
       "      <td>570</td>\n",
       "      <td>3</td>\n",
       "    </tr>\n",
       "    <tr>\n",
       "      <th>2</th>\n",
       "      <td>8138</td>\n",
       "      <td>1</td>\n",
       "      <td>2023</td>\n",
       "      <td>25</td>\n",
       "      <td>0</td>\n",
       "      <td>2</td>\n",
       "      <td>2016-07-02</td>\n",
       "      <td>136</td>\n",
       "      <td>2</td>\n",
       "    </tr>\n",
       "    <tr>\n",
       "      <th>3</th>\n",
       "      <td>9005</td>\n",
       "      <td>6</td>\n",
       "      <td>620860</td>\n",
       "      <td>777</td>\n",
       "      <td>161</td>\n",
       "      <td>153</td>\n",
       "      <td>2016-07-27</td>\n",
       "      <td>262</td>\n",
       "      <td>7</td>\n",
       "    </tr>\n",
       "    <tr>\n",
       "      <th>4</th>\n",
       "      <td>122</td>\n",
       "      <td>1</td>\n",
       "      <td>666</td>\n",
       "      <td>1</td>\n",
       "      <td>0</td>\n",
       "      <td>0</td>\n",
       "      <td>2016-06-29</td>\n",
       "      <td>31</td>\n",
       "      <td>3</td>\n",
       "    </tr>\n",
       "  </tbody>\n",
       "</table>\n",
       "</div>"
      ],
      "text/plain": [
       "   vidid  adview    views  likes  dislikes  comment  published  duration  \\\n",
       "0   5912      40  1031602   8523       363     1095 2016-09-14       457   \n",
       "1   2741       2     1707     56         2        6 2016-10-01       570   \n",
       "2   8138       1     2023     25         0        2 2016-07-02       136   \n",
       "3   9005       6   620860    777       161      153 2016-07-27       262   \n",
       "4    122       1      666      1         0        0 2016-06-29        31   \n",
       "\n",
       "   category  \n",
       "0         5  \n",
       "1         3  \n",
       "2         2  \n",
       "3         7  \n",
       "4         3  "
      ]
     },
     "execution_count": 276,
     "metadata": {},
     "output_type": "execute_result"
    }
   ],
   "source": [
    "df['duration']=time1\n",
    "df.head()"
   ]
  },
  {
   "cell_type": "code",
   "execution_count": 277,
   "id": "ec412391",
   "metadata": {},
   "outputs": [
    {
     "name": "stdout",
     "output_type": "stream",
     "text": [
      "<class 'pandas.core.frame.DataFrame'>\n",
      "Int64Index: 14637 entries, 0 to 14998\n",
      "Data columns (total 9 columns):\n",
      " #   Column     Non-Null Count  Dtype         \n",
      "---  ------     --------------  -----         \n",
      " 0   vidid      14637 non-null  int64         \n",
      " 1   adview     14637 non-null  int64         \n",
      " 2   views      14637 non-null  int64         \n",
      " 3   likes      14637 non-null  int64         \n",
      " 4   dislikes   14637 non-null  int64         \n",
      " 5   comment    14637 non-null  int64         \n",
      " 6   published  14637 non-null  datetime64[ns]\n",
      " 7   duration   14637 non-null  int64         \n",
      " 8   category   14637 non-null  int64         \n",
      "dtypes: datetime64[ns](1), int64(8)\n",
      "memory usage: 1.6 MB\n"
     ]
    }
   ],
   "source": [
    "df.info()"
   ]
  },
  {
   "cell_type": "markdown",
   "id": "a4bc2876",
   "metadata": {},
   "source": [
    "## Visualization"
   ]
  },
  {
   "cell_type": "code",
   "execution_count": 278,
   "id": "c64f6c54",
   "metadata": {},
   "outputs": [
    {
     "data": {
      "text/plain": [
       "<AxesSubplot:>"
      ]
     },
     "execution_count": 278,
     "metadata": {},
     "output_type": "execute_result"
    },
    {
     "data": {
      "image/png": "[encoded data removed]",
      "text/plain": [
       "<Figure size 432x288 with 2 Axes>"
      ]
     },
     "metadata": {
      "needs_background": "light"
     },
     "output_type": "display_data"
    }
   ],
   "source": [
    "sns.heatmap(df.corr())"
   ]
  },
  {
   "cell_type": "code",
   "execution_count": 281,
   "id": "d4f3b461",
   "metadata": {},
   "outputs": [
    {
     "data": {
      "image/png": "[encoded data removed]",
      "text/plain": [
       "<Figure size 432x288 with 1 Axes>"
      ]
     },
     "metadata": {
      "needs_background": "light"
     },
     "output_type": "display_data"
    }
   ],
   "source": [
    "plt.hist(df['category'])\n",
    "plt.show()"
   ]
  },
  {
   "cell_type": "code",
   "execution_count": 282,
   "id": "9d3602c4",
   "metadata": {},
   "outputs": [
    {
     "data": {
      "image/png": "[encoded data removed]",
      "text/plain": [
       "<Figure size 432x288 with 1 Axes>"
      ]
     },
     "metadata": {
      "needs_background": "light"
     },
     "output_type": "display_data"
    }
   ],
   "source": [
    "plt.plot(df['adview'])\n",
    "plt.show()"
   ]
  },
  {
   "cell_type": "markdown",
   "id": "ee34457d",
   "metadata": {},
   "source": [
    "Removing outlier"
   ]
  },
  {
   "cell_type": "code",
   "execution_count": 283,
   "id": "26e3034b",
   "metadata": {},
   "outputs": [],
   "source": [
    "df=df[df.adview<2000000]"
   ]
  },
  {
   "cell_type": "code",
   "execution_count": 284,
   "id": "f8ad0237",
   "metadata": {},
   "outputs": [
    {
     "data": {
      "image/png": "[encoded data removed]",
      "text/plain": [
       "<Figure size 432x288 with 1 Axes>"
      ]
     },
     "metadata": {
      "needs_background": "light"
     },
     "output_type": "display_data"
    }
   ],
   "source": [
    "plt.plot(df['adview'])\n",
    "plt.show()"
   ]
  }
 ],
 "metadata": {
  "kernelspec": {
   "display_name": "Python 3 (ipykernel)",
   "language": "python",
   "name": "python3"
  },
  "language_info": {
   "codemirror_mode": {
    "name": "ipython",
    "version": 3
   },
   "file_extension": ".py",
   "mimetype": "text/x-python",
   "name": "python",
   "nbconvert_exporter": "python",
   "pygments_lexer": "ipython3",
   "version": "3.9.6"
  }
 },
 "nbformat": 4,
 "nbformat_minor": 5
}
