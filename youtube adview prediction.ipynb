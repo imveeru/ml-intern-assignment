{
 "cells": [
  {
   "cell_type": "markdown",
   "id": "ca975e69",
   "metadata": {},
   "source": [
    "# Youtube Adview Prediction"
   ]
  },
  {
   "cell_type": "code",
   "execution_count": null,
   "id": "68c23ac2",
   "metadata": {},
   "outputs": [],
   "source": [
    "import numpy as np\n",
    "import pandas as pd\n",
    "import seaborn as sns\n",
    "import matplotlib.pyplot as plt\n",
    "%matplotlib inline"
   ]
  },
  {
   "cell_type": "markdown",
   "id": "800b66ae",
   "metadata": {},
   "source": [
    "## EDA"
   ]
  },
  {
   "cell_type": "code",
   "execution_count": null,
   "id": "3f831cf6",
   "metadata": {},
   "outputs": [],
   "source": [
    "df=pd.read_csv('train.csv')\n",
    "df.head()"
   ]
  },
  {
   "cell_type": "code",
   "execution_count": null,
   "id": "c2cd0d7f",
   "metadata": {},
   "outputs": [],
   "source": [
    "df.shape"
   ]
  },
  {
   "cell_type": "code",
   "execution_count": null,
   "id": "575dba02",
   "metadata": {},
   "outputs": [],
   "source": [
    "df.info()"
   ]
  },
  {
   "cell_type": "markdown",
   "id": "4875c3e7",
   "metadata": {},
   "source": [
    "Removing F values from dataset"
   ]
  },
  {
   "cell_type": "code",
   "execution_count": null,
   "id": "99dab59c",
   "metadata": {},
   "outputs": [],
   "source": [
    "df=df[df.views!='F']\n",
    "df=df[df.likes!='F']\n",
    "df=df[df.dislikes!='F']\n",
    "df=df[df.comment!='F']"
   ]
  },
  {
   "cell_type": "markdown",
   "id": "8513da13",
   "metadata": {},
   "source": [
    "Converting them to numeric"
   ]
  },
  {
   "cell_type": "code",
   "execution_count": null,
   "id": "099ae471",
   "metadata": {},
   "outputs": [],
   "source": [
    "df['views']=pd.to_numeric(df['views'])\n",
    "df['likes']=pd.to_numeric(df['likes'])\n",
    "df['dislikes']=pd.to_numeric(df['dislikes'])\n",
    "df['comment']=pd.to_numeric(df['comment'])\n",
    "df['published']=pd.to_datetime(df['published'])"
   ]
  },
  {
   "cell_type": "code",
   "execution_count": null,
   "id": "0cf41ca9",
   "metadata": {},
   "outputs": [],
   "source": [
    "df.info()"
   ]
  },
  {
   "cell_type": "code",
   "execution_count": null,
   "id": "de7e4973",
   "metadata": {},
   "outputs": [],
   "source": [
    "df.isnull().sum()"
   ]
  },
  {
   "cell_type": "code",
   "execution_count": null,
   "id": "1ef3c1c6",
   "metadata": {},
   "outputs": [],
   "source": [
    "df.nunique()"
   ]
  },
  {
   "cell_type": "code",
   "execution_count": null,
   "id": "378c7778",
   "metadata": {},
   "outputs": [],
   "source": [
    "vidid_col=df['vidid']\n",
    "vidid_col"
   ]
  },
  {
   "cell_type": "markdown",
   "id": "38f7a045",
   "metadata": {},
   "source": [
    "## Label Encoding"
   ]
  },
  {
   "cell_type": "code",
   "execution_count": null,
   "id": "c64443bc",
   "metadata": {},
   "outputs": [],
   "source": [
    "from sklearn.preprocessing import LabelEncoder\n",
    "\n",
    "df['category']=LabelEncoder().fit_transform(df['category']).astype('int64')\n",
    "df['vidid']=LabelEncoder().fit_transform(df['vidid']).astype('int64')"
   ]
  },
  {
   "cell_type": "code",
   "execution_count": null,
   "id": "a9e163f3",
   "metadata": {},
   "outputs": [],
   "source": [
    "df.head()"
   ]
  },
  {
   "cell_type": "markdown",
   "id": "5577e50f",
   "metadata": {},
   "source": [
    "## Conveting duration to readable format"
   ]
  },
  {
   "cell_type": "code",
   "execution_count": null,
   "id": "97267a2e",
   "metadata": {},
   "outputs": [],
   "source": [
    "import time\n",
    "import datetime"
   ]
  },
  {
   "cell_type": "code",
   "execution_count": null,
   "id": "425a9bfb",
   "metadata": {},
   "outputs": [],
   "source": [
    "sample=df['duration'][0]\n",
    "sample[2:]"
   ]
  },
  {
   "cell_type": "code",
   "execution_count": null,
   "id": "1f53189a",
   "metadata": {},
   "outputs": [],
   "source": [
    "def check(x):\n",
    "    y = x[2:]\n",
    "    h = ''\n",
    "    m = ''\n",
    "    s = ''\n",
    "    duration = ''\n",
    "    P = ['H','M','S']\n",
    "    for i in y:\n",
    "        if i not in P:\n",
    "            duration+=i\n",
    "        else:\n",
    "            if(i==\"H\"):\n",
    "                h = duration\n",
    "                duration = ''\n",
    "            elif(i == \"M\"):\n",
    "                m = duration\n",
    "                duration = ''\n",
    "            else:\n",
    "                s = duration\n",
    "                duration = ''\n",
    "                \n",
    "    if(h==''):\n",
    "        h = '00'\n",
    "    if(m == ''):\n",
    "        m = '00'\n",
    "    if(s==''):\n",
    "        s='00'\n",
    "    \n",
    "    bp = h+':'+m+':'+s\n",
    "    return bp"
   ]
  },
  {
   "cell_type": "code",
   "execution_count": null,
   "id": "11a10325",
   "metadata": {},
   "outputs": [],
   "source": [
    "a='PT7M37S'\n",
    "print(check(a))"
   ]
  },
  {
   "cell_type": "code",
   "execution_count": null,
   "id": "1fff31f4",
   "metadata": {},
   "outputs": [],
   "source": [
    "train=pd.read_csv(\"train.csv\")\n",
    "mp = pd.read_csv(\"train.csv\")[\"duration\"]\n",
    "print(mp)\n",
    "time = mp.apply(check)\n",
    "print(time)"
   ]
  },
  {
   "cell_type": "code",
   "execution_count": null,
   "id": "dbcea56a",
   "metadata": {},
   "outputs": [],
   "source": [
    "def func_sec(time_string):\n",
    "    h, m, s = time_string.split(':')\n",
    "    return int(h) * 3600 + int(m) * 60 + int(s)\n",
    "\n",
    "time1=time.apply(func_sec)"
   ]
  },
  {
   "cell_type": "code",
   "execution_count": null,
   "id": "b22d84ce",
   "metadata": {},
   "outputs": [],
   "source": [
    "df['duration']=time1\n",
    "df.head()"
   ]
  },
  {
   "cell_type": "code",
   "execution_count": null,
   "id": "f79a2c63",
   "metadata": {},
   "outputs": [],
   "source": [
    "df.info()"
   ]
  },
  {
   "cell_type": "markdown",
   "id": "0542853a",
   "metadata": {},
   "source": [
    "## Visualization"
   ]
  },
  {
   "cell_type": "code",
   "execution_count": null,
   "id": "2f6e9086",
   "metadata": {},
   "outputs": [],
   "source": [
    "plt.hist(df['category'])\n",
    "plt.show()"
   ]
  },
  {
   "cell_type": "code",
   "execution_count": null,
   "id": "1e900b32",
   "metadata": {},
   "outputs": [],
   "source": [
    "plt.plot(df['adview'])\n",
    "plt.show()"
   ]
  },
  {
   "cell_type": "markdown",
   "id": "ca7c55b5",
   "metadata": {},
   "source": [
    "Removing outlier"
   ]
  },
  {
   "cell_type": "code",
   "execution_count": null,
   "id": "6a6a854d",
   "metadata": {},
   "outputs": [],
   "source": [
    "df=df[df.adview<2000000]"
   ]
  },
  {
   "cell_type": "code",
   "execution_count": null,
   "id": "2d52e088",
   "metadata": {},
   "outputs": [],
   "source": [
    "plt.plot(df['adview'])\n",
    "plt.show()"
   ]
  },
  {
   "cell_type": "code",
   "execution_count": null,
   "id": "3c6109a9",
   "metadata": {},
   "outputs": [],
   "source": [
    "corr=df.corr()\n",
    "sns.heatmap(corr,mask=np.zeros_like(corr,dtype=np.bool),annot=True)"
   ]
  },
  {
   "cell_type": "code",
   "execution_count": null,
   "id": "1dc891dd",
   "metadata": {},
   "outputs": [],
   "source": []
  },
  {
   "cell_type": "code",
   "execution_count": null,
   "id": "35be6f09",
   "metadata": {},
   "outputs": [],
   "source": []
  }
 ],
 "metadata": {
  "kernelspec": {
   "display_name": "Python 3 (ipykernel)",
   "language": "python",
   "name": "python3"
  },
  "language_info": {
   "codemirror_mode": {
    "name": "ipython",
    "version": 3
   },
   "file_extension": ".py",
   "mimetype": "text/x-python",
   "name": "python",
   "nbconvert_exporter": "python",
   "pygments_lexer": "ipython3",
   "version": "3.9.6"
  }
 },
 "nbformat": 4,
 "nbformat_minor": 5
}
