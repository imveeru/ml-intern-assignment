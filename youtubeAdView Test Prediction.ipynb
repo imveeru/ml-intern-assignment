{
 "cells": [
  {
   "cell_type": "markdown",
   "id": "26d5f46a",
   "metadata": {},
   "source": [
    "# YouTube AdView Test Prediction"
   ]
  },
  {
   "cell_type": "code",
   "execution_count": 1,
   "id": "59c4f55d",
   "metadata": {},
   "outputs": [],
   "source": [
    "import numpy as np\n",
    "import pandas as pd\n",
    "import matplotlib.pyplot as plt\n",
    "import tensorflow\n",
    "import tensorflow.keras"
   ]
  },
  {
   "cell_type": "code",
   "execution_count": 4,
   "id": "d3b4e9f7",
   "metadata": {},
   "outputs": [
    {
     "data": {
      "text/html": [
       "<div>\n",
       "<style scoped>\n",
       "    .dataframe tbody tr th:only-of-type {\n",
       "        vertical-align: middle;\n",
       "    }\n",
       "\n",
       "    .dataframe tbody tr th {\n",
       "        vertical-align: top;\n",
       "    }\n",
       "\n",
       "    .dataframe thead th {\n",
       "        text-align: right;\n",
       "    }\n",
       "</style>\n",
       "<table border=\"1\" class=\"dataframe\">\n",
       "  <thead>\n",
       "    <tr style=\"text-align: right;\">\n",
       "      <th></th>\n",
       "      <th>vidid</th>\n",
       "      <th>views</th>\n",
       "      <th>likes</th>\n",
       "      <th>dislikes</th>\n",
       "      <th>comment</th>\n",
       "      <th>published</th>\n",
       "      <th>duration</th>\n",
       "      <th>category</th>\n",
       "    </tr>\n",
       "  </thead>\n",
       "  <tbody>\n",
       "    <tr>\n",
       "      <th>0</th>\n",
       "      <td>VID_1054</td>\n",
       "      <td>440238</td>\n",
       "      <td>6153</td>\n",
       "      <td>218</td>\n",
       "      <td>1377</td>\n",
       "      <td>2017-02-18</td>\n",
       "      <td>PT7M29S</td>\n",
       "      <td>B</td>\n",
       "    </tr>\n",
       "    <tr>\n",
       "      <th>1</th>\n",
       "      <td>VID_18629</td>\n",
       "      <td>1040132</td>\n",
       "      <td>8171</td>\n",
       "      <td>340</td>\n",
       "      <td>1047</td>\n",
       "      <td>2016-06-28</td>\n",
       "      <td>PT6M29S</td>\n",
       "      <td>F</td>\n",
       "    </tr>\n",
       "    <tr>\n",
       "      <th>2</th>\n",
       "      <td>VID_13967</td>\n",
       "      <td>28534</td>\n",
       "      <td>31</td>\n",
       "      <td>11</td>\n",
       "      <td>1</td>\n",
       "      <td>2014-03-10</td>\n",
       "      <td>PT37M54S</td>\n",
       "      <td>D</td>\n",
       "    </tr>\n",
       "    <tr>\n",
       "      <th>3</th>\n",
       "      <td>VID_19442</td>\n",
       "      <td>1316715</td>\n",
       "      <td>2284</td>\n",
       "      <td>250</td>\n",
       "      <td>274</td>\n",
       "      <td>2010-06-05</td>\n",
       "      <td>PT9M55S</td>\n",
       "      <td>G</td>\n",
       "    </tr>\n",
       "    <tr>\n",
       "      <th>4</th>\n",
       "      <td>VID_770</td>\n",
       "      <td>1893173</td>\n",
       "      <td>2519</td>\n",
       "      <td>225</td>\n",
       "      <td>116</td>\n",
       "      <td>2016-09-03</td>\n",
       "      <td>PT3M8S</td>\n",
       "      <td>B</td>\n",
       "    </tr>\n",
       "  </tbody>\n",
       "</table>\n",
       "</div>"
      ],
      "text/plain": [
       "       vidid    views likes dislikes comment   published  duration category\n",
       "0   VID_1054   440238  6153      218    1377  2017-02-18   PT7M29S        B\n",
       "1  VID_18629  1040132  8171      340    1047  2016-06-28   PT6M29S        F\n",
       "2  VID_13967    28534    31       11       1  2014-03-10  PT37M54S        D\n",
       "3  VID_19442  1316715  2284      250     274  2010-06-05   PT9M55S        G\n",
       "4    VID_770  1893173  2519      225     116  2016-09-03    PT3M8S        B"
      ]
     },
     "execution_count": 4,
     "metadata": {},
     "output_type": "execute_result"
    }
   ],
   "source": [
    "df=pd.read_csv('./test(1).csv')\n",
    "df.head()"
   ]
  },
  {
   "cell_type": "code",
   "execution_count": 5,
   "id": "89aab8df",
   "metadata": {},
   "outputs": [
    {
     "name": "stdout",
     "output_type": "stream",
     "text": [
      "<class 'pandas.core.frame.DataFrame'>\n",
      "RangeIndex: 8764 entries, 0 to 8763\n",
      "Data columns (total 8 columns):\n",
      " #   Column     Non-Null Count  Dtype \n",
      "---  ------     --------------  ----- \n",
      " 0   vidid      8764 non-null   object\n",
      " 1   views      8764 non-null   object\n",
      " 2   likes      8764 non-null   object\n",
      " 3   dislikes   8764 non-null   object\n",
      " 4   comment    8764 non-null   object\n",
      " 5   published  8764 non-null   object\n",
      " 6   duration   8764 non-null   object\n",
      " 7   category   8764 non-null   object\n",
      "dtypes: object(8)\n",
      "memory usage: 547.9+ KB\n"
     ]
    }
   ],
   "source": [
    "df.info()"
   ]
  },
  {
   "cell_type": "code",
   "execution_count": 6,
   "id": "1ac66f02",
   "metadata": {},
   "outputs": [],
   "source": [
    "df=df[df.views!='F']\n",
    "df=df[df.likes!='F']\n",
    "df=df[df.dislikes!='F']\n",
    "df=df[df.comment!='F']"
   ]
  },
  {
   "cell_type": "code",
   "execution_count": 7,
   "id": "11c6bb9b",
   "metadata": {},
   "outputs": [],
   "source": [
    "df['views']=pd.to_numeric(df['views'])\n",
    "df['likes']=pd.to_numeric(df['likes'])\n",
    "df['dislikes']=pd.to_numeric(df['dislikes'])\n",
    "df['comment']=pd.to_numeric(df['comment'])"
   ]
  },
  {
   "cell_type": "code",
   "execution_count": 8,
   "id": "7cd2fb26",
   "metadata": {},
   "outputs": [
    {
     "name": "stdout",
     "output_type": "stream",
     "text": [
      "<class 'pandas.core.frame.DataFrame'>\n",
      "Int64Index: 8549 entries, 0 to 8763\n",
      "Data columns (total 8 columns):\n",
      " #   Column     Non-Null Count  Dtype \n",
      "---  ------     --------------  ----- \n",
      " 0   vidid      8549 non-null   object\n",
      " 1   views      8549 non-null   int64 \n",
      " 2   likes      8549 non-null   int64 \n",
      " 3   dislikes   8549 non-null   int64 \n",
      " 4   comment    8549 non-null   int64 \n",
      " 5   published  8549 non-null   object\n",
      " 6   duration   8549 non-null   object\n",
      " 7   category   8549 non-null   object\n",
      "dtypes: int64(4), object(4)\n",
      "memory usage: 601.1+ KB\n"
     ]
    }
   ],
   "source": [
    "df.info()"
   ]
  },
  {
   "cell_type": "code",
   "execution_count": 9,
   "id": "25debc25",
   "metadata": {},
   "outputs": [
    {
     "data": {
      "text/plain": [
       "0        VID_1054\n",
       "1       VID_18629\n",
       "2       VID_13967\n",
       "3       VID_19442\n",
       "4         VID_770\n",
       "          ...    \n",
       "8759     VID_2944\n",
       "8760     VID_8195\n",
       "8761    VID_18973\n",
       "8762     VID_5849\n",
       "8763     VID_8494\n",
       "Name: vidid, Length: 8549, dtype: object"
      ]
     },
     "execution_count": 9,
     "metadata": {},
     "output_type": "execute_result"
    }
   ],
   "source": [
    "vidid_col=df['vidid']\n",
    "vidid_col"
   ]
  },
  {
   "cell_type": "code",
   "execution_count": 10,
   "id": "66075c5c",
   "metadata": {},
   "outputs": [],
   "source": [
    "from sklearn.preprocessing import LabelEncoder\n",
    "\n",
    "df['category']=LabelEncoder().fit_transform(df['category']).astype('int64')\n",
    "df['vidid']=LabelEncoder().fit_transform(df['vidid']).astype('int64')\n",
    "df['published']=LabelEncoder().fit_transform(df['published']).astype('int64')"
   ]
  },
  {
   "cell_type": "markdown",
   "id": "21490ef4",
   "metadata": {},
   "source": [
    "## Converting duration"
   ]
  },
  {
   "cell_type": "code",
   "execution_count": 11,
   "id": "9e430af0",
   "metadata": {},
   "outputs": [],
   "source": [
    "import time\n",
    "import datetime"
   ]
  },
  {
   "cell_type": "code",
   "execution_count": 12,
   "id": "98fbb9a1",
   "metadata": {},
   "outputs": [
    {
     "data": {
      "text/plain": [
       "'7M29S'"
      ]
     },
     "execution_count": 12,
     "metadata": {},
     "output_type": "execute_result"
    }
   ],
   "source": [
    "sample=df['duration'][0]\n",
    "sample[2:]"
   ]
  },
  {
   "cell_type": "code",
   "execution_count": 13,
   "id": "894c2353",
   "metadata": {},
   "outputs": [],
   "source": [
    "def check(x):\n",
    "    y = x[2:]\n",
    "    h = ''\n",
    "    m = ''\n",
    "    s = ''\n",
    "    duration = ''\n",
    "    P = ['H','M','S']\n",
    "    for i in y:\n",
    "        if i not in P:\n",
    "            duration+=i\n",
    "        else:\n",
    "            if(i==\"H\"):\n",
    "                h = duration\n",
    "                duration = ''\n",
    "            elif(i == \"M\"):\n",
    "                m = duration\n",
    "                duration = ''\n",
    "            else:\n",
    "                s = duration\n",
    "                duration = ''\n",
    "                \n",
    "    if(h==''):\n",
    "        h = '00'\n",
    "    if(m == ''):\n",
    "        m = '00'\n",
    "    if(s==''):\n",
    "        s='00'\n",
    "    \n",
    "    bp = h+':'+m+':'+s\n",
    "    return bp"
   ]
  },
  {
   "cell_type": "code",
   "execution_count": 14,
   "id": "a0ea4466",
   "metadata": {},
   "outputs": [
    {
     "name": "stdout",
     "output_type": "stream",
     "text": [
      "0        PT7M37S\n",
      "1        PT9M30S\n",
      "2        PT2M16S\n",
      "3        PT4M22S\n",
      "4          PT31S\n",
      "          ...   \n",
      "14994    PT6M10S\n",
      "14995    PT3M56S\n",
      "14996    PT3M13S\n",
      "14997      PT26S\n",
      "14998     PT1M1S\n",
      "Name: duration, Length: 14999, dtype: object\n",
      "0         00:7:37\n",
      "1         00:9:30\n",
      "2         00:2:16\n",
      "3         00:4:22\n",
      "4        00:00:31\n",
      "           ...   \n",
      "14994     00:6:10\n",
      "14995     00:3:56\n",
      "14996     00:3:13\n",
      "14997    00:00:26\n",
      "14998      00:1:1\n",
      "Name: duration, Length: 14999, dtype: object\n"
     ]
    }
   ],
   "source": [
    "train=pd.read_csv(\"train.csv\")\n",
    "mp = pd.read_csv(\"train.csv\")[\"duration\"]\n",
    "print(mp)\n",
    "time = mp.apply(check)\n",
    "print(time)"
   ]
  },
  {
   "cell_type": "code",
   "execution_count": 15,
   "id": "92f8d72e",
   "metadata": {},
   "outputs": [],
   "source": [
    "def func_sec(time_string):\n",
    "    h, m, s = time_string.split(':')\n",
    "    return int(h) * 3600 + int(m) * 60 + int(s)\n",
    "\n",
    "time1=time.apply(func_sec)"
   ]
  }
 ],
 "metadata": {
  "kernelspec": {
   "display_name": "Python 3 (ipykernel)",
   "language": "python",
   "name": "python3"
  },
  "language_info": {
   "codemirror_mode": {
    "name": "ipython",
    "version": 3
   },
   "file_extension": ".py",
   "mimetype": "text/x-python",
   "name": "python",
   "nbconvert_exporter": "python",
   "pygments_lexer": "ipython3",
   "version": "3.9.7"
  }
 },
 "nbformat": 4,
 "nbformat_minor": 5
}
